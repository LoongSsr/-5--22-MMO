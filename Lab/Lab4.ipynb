{
  "nbformat": 4,
  "nbformat_minor": 0,
  "metadata": {
    "colab": {
      "provenance": []
    },
    "kernelspec": {
      "name": "python3",
      "display_name": "Python 3"
    },
    "language_info": {
      "name": "python"
    }
  },
  "cells": [
    {
      "cell_type": "code",
      "execution_count": null,
      "metadata": {
        "colab": {
          "base_uri": "https://localhost:8080/"
        },
        "id": "pBsOlGC4I78Z",
        "outputId": "ac17c254-0757-44c5-bed5-f1ea553c8bd6"
      },
      "outputs": [
        {
          "output_type": "stream",
          "name": "stdout",
          "text": [
            "Requirement already satisfied: gym in /usr/local/lib/python3.10/dist-packages (0.25.2)\n",
            "Requirement already satisfied: numpy>=1.18.0 in /usr/local/lib/python3.10/dist-packages (from gym) (1.25.2)\n",
            "Requirement already satisfied: cloudpickle>=1.2.0 in /usr/local/lib/python3.10/dist-packages (from gym) (2.2.1)\n",
            "Requirement already satisfied: gym-notices>=0.0.4 in /usr/local/lib/python3.10/dist-packages (from gym) (0.0.8)\n"
          ]
        }
      ],
      "source": [
        "pip install gym"
      ]
    },
    {
      "cell_type": "code",
      "source": [
        "import gym\n",
        "import numpy as np\n",
        "import tensorflow as tf\n",
        "from tensorflow import keras\n",
        "from tensorflow.keras import layers"
      ],
      "metadata": {
        "id": "EXjp_bW_JEMX"
      },
      "execution_count": null,
      "outputs": []
    },
    {
      "cell_type": "code",
      "source": [
        "class PolicyNetwork(keras.Model):\n",
        "    def __init__(self, num_actions):\n",
        "        super(PolicyNetwork, self).__init__()\n",
        "        self.dense1 = layers.Dense(24, activation='relu')\n",
        "        self.dense2 = layers.Dense(24, activation='relu')\n",
        "        self.logits = layers.Dense(num_actions)\n",
        "\n",
        "    def call(self, inputs):\n",
        "        x = self.dense1(inputs)\n",
        "        x = self.dense2(x)\n",
        "        return tf.nn.softmax(self.logits(x))"
      ],
      "metadata": {
        "id": "tSPAQN_ie7-i"
      },
      "execution_count": null,
      "outputs": []
    },
    {
      "cell_type": "code",
      "source": [
        "def generate_episode(env, policy_network):\n",
        "    states = []\n",
        "    actions = []\n",
        "    rewards = []\n",
        "    state = env.reset()\n",
        "    done = False\n",
        "    while not done:\n",
        "        state_tensor = tf.convert_to_tensor(state, dtype=tf.float32)\n",
        "        state_tensor = tf.expand_dims(state_tensor, 0)\n",
        "        action_probs = policy_network(state_tensor)\n",
        "        action = np.random.choice(len(action_probs.numpy()[0]), p=np.squeeze(action_probs.numpy()))\n",
        "        next_state, reward, terminated, truncated, _ = env.step(action)\n",
        "        done = terminated or truncated\n",
        "        states.append(state)\n",
        "        actions.append(action)\n",
        "        rewards.append(reward)\n",
        "        state = next_state\n",
        "    return np.array(states, dtype=np.float32), np.array(actions, dtype=np.int32), np.array(rewards, dtype=np.float32)"
      ],
      "metadata": {
        "id": "pseWaKszgWNZ"
      },
      "execution_count": null,
      "outputs": []
    },
    {
      "cell_type": "code",
      "source": [
        "@tf.function\n",
        "def policy_update(states, actions, rewards, policy_network, optimizer, gamma=1.0):\n",
        "    num_actions = policy_network.layers[-1].units\n",
        "    returns = tf.TensorArray(dtype=tf.float32, size=0, dynamic_size=True)\n",
        "    G = tf.constant(0.0)\n",
        "    for t in tf.range(len(rewards) - 1, -1, -1):\n",
        "        G = rewards[t] + gamma * G\n",
        "        returns = returns.write(t, G)\n",
        "    returns = returns.stack()\n",
        "    returns = (returns - tf.reduce_mean(returns)) / (tf.math.reduce_std(returns) + 1e-8)\n",
        "\n",
        "    with tf.GradientTape() as tape:\n",
        "        states_tensor = tf.convert_to_tensor(states, dtype=tf.float32)\n",
        "        action_mask = tf.one_hot(actions, num_actions)\n",
        "        action_probs = policy_network(states_tensor)\n",
        "        selected_action_probs = tf.reduce_sum(action_probs * action_mask, axis=1)\n",
        "        loss = -tf.reduce_mean(tf.math.log(selected_action_probs) * returns)\n",
        "\n",
        "    grads = tape.gradient(loss, policy_network.trainable_variables)\n",
        "    optimizer.apply_gradients(zip(grads, policy_network.trainable_variables))\n",
        "\n",
        "def policy_improvement(env, policy_network, optimizer, gamma=1.0, num_episodes=1000):\n",
        "    for _ in range(num_episodes):\n",
        "        states, actions, rewards = generate_episode(env, policy_network)\n",
        "        policy_update(states, actions, rewards, policy_network, optimizer, gamma)"
      ],
      "metadata": {
        "collapsed": true,
        "id": "WHXOBwPBJFBn"
      },
      "execution_count": null,
      "outputs": []
    },
    {
      "cell_type": "code",
      "source": [
        "env = gym.make('CartPole-v1', new_step_api=True)\n",
        "num_actions = env.action_space.n\n",
        "policy_network = PolicyNetwork(num_actions)\n",
        "optimizer = tf.optimizers.Adam(learning_rate=0.01)\n",
        "\n",
        "# 运行策略迭代算法\n",
        "policy_improvement(env, policy_network, optimizer, num_episodes=1000)\n",
        "\n",
        "# 测试训练后的策略网络\n",
        "num_test_episodes = 10\n",
        "for episode in range(num_test_episodes):\n",
        "    state = env.reset()\n",
        "    done = False\n",
        "    total_reward = 0\n",
        "    while not done:\n",
        "        state_tensor = tf.convert_to_tensor(state, dtype=tf.float32)\n",
        "        state_tensor = tf.expand_dims(state_tensor, 0)\n",
        "        action_probs = policy_network(state_tensor)\n",
        "        action = np.argmax(action_probs.numpy())\n",
        "        next_state, reward, terminated, truncated, _ = env.step(action)\n",
        "        done = terminated or truncated\n",
        "        state = next_state\n",
        "        total_reward += reward\n",
        "    print(f\"Episode {episode + 1}: Total Reward = {total_reward}\")"
      ],
      "metadata": {
        "id": "70gRDV9yN7n1",
        "colab": {
          "base_uri": "https://localhost:8080/"
        },
        "outputId": "7b51398f-e752-43c2-af94-fad9b0432a67"
      },
      "execution_count": null,
      "outputs": [
        {
          "output_type": "stream",
          "name": "stderr",
          "text": [
            "WARNING:tensorflow:5 out of the last 5 calls to <function policy_update at 0x7d6d45ee5090> triggered tf.function retracing. Tracing is expensive and the excessive number of tracings could be due to (1) creating @tf.function repeatedly in a loop, (2) passing tensors with different shapes, (3) passing Python objects instead of tensors. For (1), please define your @tf.function outside of the loop. For (2), @tf.function has reduce_retracing=True option that can avoid unnecessary retracing. For (3), please refer to https://www.tensorflow.org/guide/function#controlling_retracing and https://www.tensorflow.org/api_docs/python/tf/function for  more details.\n",
            "WARNING:tensorflow:6 out of the last 6 calls to <function policy_update at 0x7d6d45ee5090> triggered tf.function retracing. Tracing is expensive and the excessive number of tracings could be due to (1) creating @tf.function repeatedly in a loop, (2) passing tensors with different shapes, (3) passing Python objects instead of tensors. For (1), please define your @tf.function outside of the loop. For (2), @tf.function has reduce_retracing=True option that can avoid unnecessary retracing. For (3), please refer to https://www.tensorflow.org/guide/function#controlling_retracing and https://www.tensorflow.org/api_docs/python/tf/function for  more details.\n"
          ]
        },
        {
          "output_type": "stream",
          "name": "stdout",
          "text": [
            "Episode 1: Total Reward = 500.0\n",
            "Episode 2: Total Reward = 500.0\n",
            "Episode 3: Total Reward = 500.0\n",
            "Episode 4: Total Reward = 500.0\n",
            "Episode 5: Total Reward = 500.0\n",
            "Episode 6: Total Reward = 500.0\n",
            "Episode 7: Total Reward = 500.0\n",
            "Episode 8: Total Reward = 500.0\n",
            "Episode 9: Total Reward = 500.0\n",
            "Episode 10: Total Reward = 500.0\n"
          ]
        }
      ]
    }
  ]
}